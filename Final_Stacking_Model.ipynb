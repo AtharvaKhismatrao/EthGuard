{
 "cells": [
  {
   "cell_type": "code",
   "execution_count": 1,
   "id": "939bfb8a",
   "metadata": {
    "colab": {
     "base_uri": "https://localhost:8080/",
     "height": 373
    },
    "executionInfo": {
     "elapsed": 10,
     "status": "error",
     "timestamp": 1667209390500,
     "user": {
      "displayName": "Alvin Leung",
      "userId": "04515226660203115454"
     },
     "user_tz": -480
    },
    "id": "939bfb8a",
    "outputId": "f0ab42c0-f591-4af8-9b07-47e4d7c90fed"
   },
   "outputs": [
    {
     "ename": "ModuleNotFoundError",
     "evalue": "No module named 'keras'",
     "output_type": "error",
     "traceback": [
      "\u001b[31m---------------------------------------------------------------------------\u001b[39m",
      "\u001b[31mModuleNotFoundError\u001b[39m                       Traceback (most recent call last)",
      "\u001b[36mCell\u001b[39m\u001b[36m \u001b[39m\u001b[32mIn[1]\u001b[39m\u001b[32m, line 12\u001b[39m\n\u001b[32m     10\u001b[39m \u001b[38;5;28;01mfrom\u001b[39;00m\u001b[38;5;250m \u001b[39m\u001b[34;01mxgboost\u001b[39;00m\u001b[38;5;250m \u001b[39m\u001b[38;5;28;01mimport\u001b[39;00m XGBClassifier\n\u001b[32m     11\u001b[39m \u001b[38;5;28;01mimport\u001b[39;00m\u001b[38;5;250m \u001b[39m\u001b[34;01mtorch\u001b[39;00m\n\u001b[32m---> \u001b[39m\u001b[32m12\u001b[39m \u001b[38;5;28;01mimport\u001b[39;00m\u001b[38;5;250m \u001b[39m\u001b[34;01mkeras\u001b[39;00m\n\u001b[32m     13\u001b[39m \u001b[38;5;28;01mfrom\u001b[39;00m\u001b[38;5;250m \u001b[39m\u001b[34;01mkeras\u001b[39;00m\u001b[34;01m.\u001b[39;00m\u001b[34;01mconstraints\u001b[39;00m\u001b[38;5;250m \u001b[39m\u001b[38;5;28;01mimport\u001b[39;00m max_norm \u001b[38;5;28;01mas\u001b[39;00m MaxNorm\n\u001b[32m     14\u001b[39m \u001b[38;5;28;01mfrom\u001b[39;00m\u001b[38;5;250m \u001b[39m\u001b[34;01mscikeras\u001b[39;00m\u001b[34;01m.\u001b[39;00m\u001b[34;01mwrappers\u001b[39;00m\u001b[38;5;250m \u001b[39m\u001b[38;5;28;01mimport\u001b[39;00m KerasClassifier\n",
      "\u001b[31mModuleNotFoundError\u001b[39m: No module named 'keras'"
     ]
    }
   ],
   "source": [
    "import numpy as np\n",
    "import pandas as pd\n",
    "from sklearn.preprocessing import MinMaxScaler, LabelEncoder, PolynomialFeatures\n",
    "from sklearn import svm\n",
    "from sklearn.pipeline import Pipeline\n",
    "from sklearn.metrics import confusion_matrix, roc_auc_score, recall_score, accuracy_score, classification_report, r2_score as r2\n",
    "from sklearn.model_selection import KFold, RepeatedKFold, GridSearchCV, train_test_split, cross_val_score\n",
    "from sklearn.linear_model import LinearRegression, LogisticRegression, Ridge\n",
    "from pytorch_tabnet.tab_model import TabNetClassifier\n",
    "from xgboost import XGBClassifier\n",
    "import torch\n",
    "import keras\n",
    "from keras.constraints import max_norm as MaxNorm\n",
    "from scikeras.wrappers import KerasClassifier\n",
    "import tensorflow as tf\n",
    "from keras.models import Sequential\n",
    "from keras import layers\n",
    "from sklearn.pipeline import make_pipeline\n",
    "from scikeras.wrappers import KerasClassifier\n",
    "from sklearn.ensemble import StackingClassifier, StackingRegressor\n",
    "from sklearn.neural_network import MLPClassifier\n",
    "from tqdm import tqdm\n",
    "import time\n",
    "\n",
    "%matplotlib inline\n",
    "import matplotlib\n",
    "import matplotlib.pyplot as plt\n",
    "import seaborn as sns\n",
    "matplotlib.rcParams['figure.figsize'] = (11.0, 8.0)\n",
    "\n",
    "import random\n",
    "random.seed(42)"
   ]
  },
  {
   "cell_type": "code",
   "execution_count": null,
   "id": "a95cd3b8",
   "metadata": {
    "colab": {
     "base_uri": "https://localhost:8080/",
     "height": 380
    },
    "executionInfo": {
     "elapsed": 374,
     "status": "error",
     "timestamp": 1667209406117,
     "user": {
      "displayName": "Alvin Leung",
      "userId": "04515226660203115454"
     },
     "user_tz": -480
    },
    "id": "a95cd3b8",
    "outputId": "04c2636b-fbb1-4eb2-8f61-b596147f865e"
   },
   "outputs": [],
   "source": [
    "#Importing Data\n",
    "df = pd.read_csv('../Data/address_data_combined.csv')\n",
    "X = df.drop(columns=['Address', 'FLAG'])\n",
    "y = df['FLAG']\n",
    "X_train_full, X_test, y_train_full, y_test = train_test_split(X, y, test_size=0.3, random_state=42, stratify=y)\n",
    "\n",
    "\n",
    "columns = ['Avg min between sent tnx', 'Avg min between received tnx',\n",
    "       'Time Diff between first and last (Mins)',\n",
    "       'Unique Received From Addresses', 'min value received',\n",
    "       'max value received ', 'avg val received', 'min val sent',\n",
    "       'avg val sent', 'total transactions (including tnx to create contract',\n",
    "       'total ether received', 'total ether balance']\n",
    "    \n",
    "scaler = MinMaxScaler()\n",
    "\n",
    "# Log for Skewed Data\n",
    "for c in columns:\n",
    "    X_train_full[c] = X_train_full[c].apply(lambda x: np.log(x) if x > 0 else 0)\n",
    "    X_test[c] = X_test[c].apply(lambda x: np.log(x) if x > 0 else 0)\n",
    "\n",
    "# Scaling\n",
    "X_train_full = scaler.fit_transform(X_train_full)\n",
    "X_test = scaler.transform(X_test)\n",
    "\n",
    "np.isnan(X_train_full)\n"
   ]
  },
  {
   "cell_type": "code",
   "execution_count": null,
   "id": "2c286bb2",
   "metadata": {},
   "outputs": [],
   "source": [
    "X_train_full, X_test, y_train_full, y_test = train_test_split(X, y, test_size=0.3, random_state=42, stratify=y)\n",
    "print(X_train_full.shape)\n",
    "X_train_full.head()"
   ]
  },
  {
   "cell_type": "code",
   "execution_count": null,
   "id": "8d93a698",
   "metadata": {
    "id": "8d93a698"
   },
   "outputs": [],
   "source": [
    "# Feature Engineering\n",
    "from sklearn.preprocessing import MinMaxScaler\n",
    "\n",
    "columns = ['Avg min between sent tnx', 'Avg min between received tnx',\n",
    "       'Time Diff between first and last (Mins)',\n",
    "       'Unique Received From Addresses', 'min value received',\n",
    "       'max value received ', 'avg val received', 'min val sent',\n",
    "       'avg val sent', 'total transactions (including tnx to create contract',\n",
    "       'total ether received', 'total ether balance']\n",
    "    \n",
    "scaler = MinMaxScaler()\n",
    "\n",
    "# Log for Skewed Data\n",
    "# log on both train and test data\n",
    "for c in columns:\n",
    "    X_train_full[c] = X_train_full[c].apply(lambda x: np.log(x) if x > 0 else 0)\n",
    "    X_test[c] = X_test[c].apply(lambda x: np.log(x) if x > 0 else 0)\n",
    "\n",
    "# Scaling\n",
    "# only use training data to fit, to avoid data leakage\n",
    "X_train_full = scaler.fit_transform(X_train_full)\n",
    "X_test = scaler.transform(X_test)\n",
    "\n",
    "np.isnan(X_train_full)"
   ]
  },
  {
   "cell_type": "code",
   "execution_count": null,
   "id": "3bb509ec",
   "metadata": {
    "id": "3bb509ec"
   },
   "outputs": [],
   "source": [
    "#Optimal Parameters for each model from hyperparameter tuning\n",
    "tabnet_params = {'gamma': 1.0, \n",
    "                 'lambda_sparse': 0, \n",
    "                 'momentum': 0.4, \n",
    "                 'n_steps': 8, \n",
    "                 'optimizer_params': {'lr': 0.025}, \n",
    "                 'verbose': 0}\n",
    "\n",
    "xgb_params = {'learning_rate': 0.05, \n",
    "              'max_depth': 8, \n",
    "              'n_estimators': 1000}\n",
    "\n",
    "\n",
    "mlp_params = {'input_dim': X_train_full.shape[1],\n",
    "              'H': 60,\n",
    "              'activation': 'relu',\n",
    "              'dropout_probability': 0.2,\n",
    "              'num_epochs': 75,\n",
    "              'num_layers': 10}\n",
    "\n",
    "svm_params = {'C': 1000, \n",
    "              'gamma': 1}\n",
    "\n",
    "rf_params = {'max_depth': 20, \n",
    "               'min_samples_leaf': 5,\n",
    "               'n_jobs': -1}\n",
    "\n",
    "lightgbm_params = {\"bagging_fraction\": 0.95, \n",
    "                   \"bagging_freq\": 1,\n",
    "                   \"feature_fraction\": 0.95,\n",
    "                   \"learning_rate\": 0.2,\n",
    "                   \"max_bin\": 300, \n",
    "                   \"max_depth\": 6,\n",
    "                   \"min_gain_to_split\": 0,\n",
    "                   \"num_leaves\": 20}\n",
    "\n",
    "\n",
    "def compile_mlp(input_dim, H, num_epochs, num_layers, activation, dropout_probability):\n",
    "    # Creating Sequential MLP\n",
    "    model_n = Sequential()\n",
    "    model_n.add(layers.Dense(H, input_shape=(input_dim, ), activation= activation))\n",
    "\n",
    "    for _ in range(num_layers - 1):\n",
    "        model_n.add(layers.Dense(H, activation= activation, kernel_constraint=MaxNorm(3)))\n",
    "        model_n.add(layers.Dropout(dropout_probability))\n",
    "\n",
    "    model_n.add(layers.Dense(1, activation='sigmoid'))\n",
    "    # configure the model\n",
    "    model_n.compile(loss='binary_crossentropy', optimizer='adam', metrics=[tf.keras.metrics.AUC(from_logits=True)])\n",
    "    return model_n"
   ]
  },
  {
   "cell_type": "code",
   "execution_count": null,
   "id": "9c034817",
   "metadata": {
    "id": "9c034817",
    "outputId": "68793b80-bd69-4c82-9aa0-26c4579c3df0"
   },
   "outputs": [],
   "source": [
    "# get a list of models to evaluate\n",
    "import lightgbm as lgb\n",
    "from sklearn.ensemble import RandomForestClassifier\n",
    "\n",
    "def get_models():\n",
    "    models = dict()\n",
    "    mlp = KerasClassifier(model = compile_mlp, **mlp_params)\n",
    "    tabnet = TabNetClassifier(**tabnet_params)\n",
    "    models['tabnet'] = tabnet\n",
    "    models['svm'] = svm.SVC(**svm_params)\n",
    "    models['xgboost'] = XGBClassifier(**xgb_params)\n",
    "    models['mlp'] = mlp\n",
    "    models['lightGBM'] = lgb.LGBMClassifier(**lightgbm_params)\n",
    "    models['randomforest'] = RandomForestClassifier(**rf_params)\n",
    "    return models\n",
    " \n",
    "# evaluate a given model using cross-validation\n",
    "def evaluate_model(model, X, y):\n",
    "    cv = RepeatedKFold(n_splits=5, n_repeats=1, random_state=42)\n",
    "    scores = cross_val_score(model, X, y, scoring='f1', cv=cv, n_jobs=-1)#, error_score='raise')\n",
    "    return scores"
   ]
  },
  {
   "cell_type": "code",
   "execution_count": null,
   "id": "805bf398",
   "metadata": {},
   "outputs": [],
   "source": [
    "# define dataset\n",
    "X, y = X_train_full, y_train_full\n",
    "# get the models to evaluate\n",
    "models = get_models()\n",
    "# evaluate the models and store results\n",
    "results, names = list(), list()\n",
    "for name, model in models.items():\n",
    "    scores = evaluate_model(model, X, y)\n",
    "    results.append(scores)\n",
    "    names.append(name)\n",
    "    print('>%s %.3f (%.3f)' % (name, np.mean(scores), np.std(scores)))\n",
    "# plot model performance for comparison\n",
    "plt.boxplot(results, labels=names, showmeans=True)\n",
    "plt.show()"
   ]
  },
  {
   "cell_type": "code",
   "execution_count": null,
   "id": "b017856f",
   "metadata": {
    "id": "b017856f",
    "outputId": "12322ef9-efc2-49ab-d6cd-b84e8d4e160f"
   },
   "outputs": [],
   "source": [
    "import warnings\n",
    "warnings.filterwarnings(\"ignore\")\n",
    "import time\n",
    "\n",
    "#Creating Stacking model - Initialized using logistic regression model\n",
    "def get_stacking():\n",
    "    # define the base models\n",
    "    level0 = list()\n",
    "    for key,value in get_models().items():\n",
    "        try:\n",
    "            value._estimator_type = 'classifier'\n",
    "        except AttributeError:\n",
    "            pass\n",
    "        finally:\n",
    "            level0.append([key,value])\n",
    "    # define meta learner model\n",
    "    level1 = LogisticRegression()\n",
    "    # define the stacking ensemble\n",
    "    model = StackingClassifier(estimators=level0, final_estimator=level1, cv= 5, n_jobs = -1)\n",
    "    return model\n",
    "\n",
    "#Pipeline to get all models\n",
    "def get_models2():\n",
    "    models = dict()\n",
    "    models['tabnet'] = TabNetClassifier(**tabnet_params)\n",
    "    models['svm'] = svm.SVC(**svm_params)\n",
    "    models['xgboost'] = XGBClassifier(**xgb_params)\n",
    "    models['mlp'] = KerasClassifier(model = compile_mlp, **mlp_params)\n",
    "    models['lightGBM'] = lgb.LGBMClassifier()\n",
    "    models['stacking'] = get_stacking()\n",
    "    return models\n",
    "\n",
    "#Getting predictions from all models to evaluate performance on test set\n",
    "predictions, names2, timing_list = list(), list(), list()\n",
    "for name, model in get_models2().items():\n",
    "    current_time = time.time()\n",
    "    model.fit(X, y)\n",
    "    predictions.append(model.predict(X_test))\n",
    "    names2.append(name)\n",
    "    final_time = time.time()\n",
    "    timing_list.append(final_time - current_time)"
   ]
  },
  {
   "cell_type": "code",
   "execution_count": null,
   "id": "e090999a",
   "metadata": {},
   "outputs": [],
   "source": [
    "from sklearn.metrics import f1_score, roc_auc_score, recall_score, accuracy_score, precision_score\n",
    "results_df = pd.DataFrame()\n",
    "results_df['Model'] = names2\n",
    "results_df['Time taken'] = timing_list\n",
    "results_df['Optimal Parameters'] = [tabnet_params,\n",
    "                                    svm_params,\n",
    "                                    xgb_params,\n",
    "                                    mlp_params,\n",
    "                                    lightgbm_params,\n",
    "                                    None]\n",
    "metrics_dict = {'Accuracy': accuracy_score, \n",
    "                'Precision': precision_score, \n",
    "                'Recall': recall_score, \n",
    "                'F1': f1_score, \n",
    "                'ROC-AUC': roc_auc_score}\n",
    "for metric, func in metrics_dict.items():\n",
    "    storage = []\n",
    "    for prediction in predictions:\n",
    "        storage.append(func(y_test, prediction))\n",
    "    results_df[metric] = storage\n",
    "\n",
    "results_df.sort_values(['Accuracy', 'ROC-AUC'], ascending = [False, False])"
   ]
  },
  {
   "cell_type": "code",
   "execution_count": null,
   "id": "68b72a38",
   "metadata": {},
   "outputs": [],
   "source": [
    "results_df.to_csv('../Data/results_with_mlp.csv')"
   ]
  },
  {
   "cell_type": "code",
   "execution_count": null,
   "id": "8ec68df3",
   "metadata": {},
   "outputs": [],
   "source": []
  }
 ],
 "metadata": {
  "colab": {
   "collapsed_sections": [],
   "provenance": []
  },
  "kernelspec": {
   "display_name": "Python 3 (ipykernel)",
   "language": "python",
   "name": "python3"
  },
  "language_info": {
   "codemirror_mode": {
    "name": "ipython",
    "version": 3
   },
   "file_extension": ".py",
   "mimetype": "text/x-python",
   "name": "python",
   "nbconvert_exporter": "python",
   "pygments_lexer": "ipython3",
   "version": "3.13.4"
  },
  "vscode": {
   "interpreter": {
    "hash": "aee8b7b246df8f9039afb4144a1f6fd8d2ca17a180786b69acc140d282b71a49"
   }
  }
 },
 "nbformat": 4,
 "nbformat_minor": 5
}
